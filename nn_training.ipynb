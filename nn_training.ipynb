{
 "cells": [
  {
   "cell_type": "markdown",
   "metadata": {
    "id": "swiHXan8nRWF"
   },
   "source": [
    "### Install required packages for training model\n"
   ]
  },
  {
   "cell_type": "code",
   "execution_count": 53,
   "metadata": {
    "colab": {
     "base_uri": "https://localhost:8080/"
    },
    "id": "J9ngdi1ul1IX",
    "outputId": "97efde7d-1f33-411a-973f-d29328c6d0de"
   },
   "outputs": [
    {
     "data": {
      "text/plain": [
       "'\\n!pip install pandas\\n!pip install seaborn\\n!pip3 install scikit-learn\\n!pip install gensim\\n!pip install tensorflow-gpu\\n!pip install keras\\n'"
      ]
     },
     "execution_count": 53,
     "metadata": {},
     "output_type": "execute_result"
    }
   ],
   "source": [
    "'''\n",
    "!pip install pandas\n",
    "!pip install seaborn\n",
    "!pip3 install scikit-learn\n",
    "!pip install gensim\n",
    "!pip install tensorflow-gpu\n",
    "!pip install keras\n",
    "'''"
   ]
  },
  {
   "cell_type": "markdown",
   "metadata": {
    "id": "B5mDsLwEnhRJ"
   },
   "source": [
    "### Import packages"
   ]
  },
  {
   "cell_type": "code",
   "execution_count": 54,
   "metadata": {
    "id": "qUeyTTGlnQz2"
   },
   "outputs": [],
   "source": [
    "# Scikit-learn\n",
    "from sklearn.model_selection import train_test_split\n",
    "from sklearn.metrics import confusion_matrix, classification_report\n",
    "\n",
    "# Word2vec\n",
    "from gensim.models import Word2Vec\n",
    "\n",
    "# Keras\n",
    "import keras\n",
    "from keras.preprocessing.text import Tokenizer\n",
    "from keras_preprocessing.sequence import pad_sequences\n",
    "from keras.models import Model, Sequential\n",
    "from keras.layers import Input, Dense, Dropout, Embedding, Conv1D, Concatenate, \\\n",
    "                         Bidirectional, LSTM, GlobalMaxPool1D\n",
    "from keras.callbacks import ReduceLROnPlateau, EarlyStopping\n",
    "\n",
    "# Utils\n",
    "import os\n",
    "import re\n",
    "import pickle\n",
    "import numpy as np\n",
    "import pandas as pd\n",
    "import itertools\n",
    "\n",
    "# Plots\n",
    "import matplotlib.pyplot as plt\n",
    "import seaborn as sn\n",
    "%matplotlib inline"
   ]
  },
  {
   "cell_type": "code",
   "execution_count": 55,
   "metadata": {
    "id": "AChc_SjNoPPr",
    "outputId": "7697dc16-27d2-4e7f-ba9c-9cd22caa224c"
   },
   "outputs": [
    {
     "data": {
      "text/plain": [
       "[PhysicalDevice(name='/physical_device:CPU:0', device_type='CPU'),\n",
       " PhysicalDevice(name='/physical_device:GPU:0', device_type='GPU')]"
      ]
     },
     "execution_count": 55,
     "metadata": {},
     "output_type": "execute_result"
    }
   ],
   "source": [
    "# Test if GPU is avaliable\n",
    "import tensorflow as tf\n",
    "tf.config.list_physical_devices()"
   ]
  },
  {
   "cell_type": "markdown",
   "metadata": {
    "id": "Inufadh0oPPs"
   },
   "source": [
    "# Data Preparation"
   ]
  },
  {
   "cell_type": "markdown",
   "metadata": {
    "id": "4PlQ-qNBoyqB"
   },
   "source": [
    "### Import Data"
   ]
  },
  {
   "cell_type": "code",
   "execution_count": 56,
   "metadata": {
    "id": "p-3OgPqyrNNY",
    "outputId": "ea20a7a6-3bb2-4992-848b-b96178b820c2"
   },
   "outputs": [
    {
     "data": {
      "text/html": [
       "<div>\n",
       "<style scoped>\n",
       "    .dataframe tbody tr th:only-of-type {\n",
       "        vertical-align: middle;\n",
       "    }\n",
       "\n",
       "    .dataframe tbody tr th {\n",
       "        vertical-align: top;\n",
       "    }\n",
       "\n",
       "    .dataframe thead th {\n",
       "        text-align: right;\n",
       "    }\n",
       "</style>\n",
       "<table border=\"1\" class=\"dataframe\">\n",
       "  <thead>\n",
       "    <tr style=\"text-align: right;\">\n",
       "      <th></th>\n",
       "      <th>sentiment</th>\n",
       "      <th>text</th>\n",
       "    </tr>\n",
       "  </thead>\n",
       "  <tbody>\n",
       "    <tr>\n",
       "      <th>0</th>\n",
       "      <td>0</td>\n",
       "      <td>@switchfoot http://twitpic.com/2y1zl - Awww, t...</td>\n",
       "    </tr>\n",
       "    <tr>\n",
       "      <th>1</th>\n",
       "      <td>0</td>\n",
       "      <td>is upset that he can't update his Facebook by ...</td>\n",
       "    </tr>\n",
       "    <tr>\n",
       "      <th>2</th>\n",
       "      <td>0</td>\n",
       "      <td>@Kenichan I dived many times for the ball. Man...</td>\n",
       "    </tr>\n",
       "  </tbody>\n",
       "</table>\n",
       "</div>"
      ],
      "text/plain": [
       "   sentiment                                               text\n",
       "0          0  @switchfoot http://twitpic.com/2y1zl - Awww, t...\n",
       "1          0  is upset that he can't update his Facebook by ...\n",
       "2          0  @Kenichan I dived many times for the ball. Man..."
      ]
     },
     "execution_count": 56,
     "metadata": {},
     "output_type": "execute_result"
    }
   ],
   "source": [
    "# Read raw dataset\n",
    "dataset_columns = [\"sentiment\", \"ids\", \"date\", \"flag\", \"user\", \"text\"]\n",
    "dataset_encoding = \"ISO-8859-1\"\n",
    "dataset = pd.read_csv('dataset/training.1600000.processed.noemoticon.csv',\n",
    "                      encoding=dataset_encoding , names=dataset_columns)\n",
    "\n",
    "# Removing the unnecessary columns.\n",
    "dataset = dataset[['sentiment', 'text']]\n",
    "\n",
    "# Replace value 4 with 1 (positive)\n",
    "dataset['sentiment'] = dataset['sentiment'].replace(4, 1)\n",
    "\n",
    "# Dataset result\n",
    "dataset.head(3)"
   ]
  },
  {
   "cell_type": "code",
   "execution_count": 57,
   "metadata": {
    "_uuid": "19eb327803192f31cce3512aacb232f4d6b38715",
    "colab": {
     "base_uri": "https://localhost:8080/",
     "height": 517
    },
    "id": "H9LPMDTHyi6O",
    "outputId": "c63ece52-8f1d-4976-c1ff-ee4edfceddf5"
   },
   "outputs": [
    {
     "data": {
      "text/html": [
       "<div>\n",
       "<style scoped>\n",
       "    .dataframe tbody tr th:only-of-type {\n",
       "        vertical-align: middle;\n",
       "    }\n",
       "\n",
       "    .dataframe tbody tr th {\n",
       "        vertical-align: top;\n",
       "    }\n",
       "\n",
       "    .dataframe thead th {\n",
       "        text-align: right;\n",
       "    }\n",
       "</style>\n",
       "<table border=\"1\" class=\"dataframe\">\n",
       "  <thead>\n",
       "    <tr style=\"text-align: right;\">\n",
       "      <th></th>\n",
       "      <th>text</th>\n",
       "    </tr>\n",
       "    <tr>\n",
       "      <th>sentiment</th>\n",
       "      <th></th>\n",
       "    </tr>\n",
       "  </thead>\n",
       "  <tbody>\n",
       "    <tr>\n",
       "      <th>0</th>\n",
       "      <td>800000</td>\n",
       "    </tr>\n",
       "    <tr>\n",
       "      <th>1</th>\n",
       "      <td>800000</td>\n",
       "    </tr>\n",
       "  </tbody>\n",
       "</table>\n",
       "</div>"
      ],
      "text/plain": [
       "             text\n",
       "sentiment        \n",
       "0          800000\n",
       "1          800000"
      ]
     },
     "execution_count": 57,
     "metadata": {},
     "output_type": "execute_result"
    }
   ],
   "source": [
    "# Dataset distribution\n",
    "dataset.groupby('sentiment').count()"
   ]
  },
  {
   "cell_type": "markdown",
   "metadata": {
    "_uuid": "4329b1573518b03e497213efa7676220734ebb4b",
    "id": "nTaLRc3Syi6O"
   },
   "source": [
    "### Pre-Process dataset"
   ]
  },
  {
   "cell_type": "code",
   "execution_count": 58,
   "metadata": {
    "id": "LoXwoqc6oPPu"
   },
   "outputs": [],
   "source": [
    "# Load Enlgish contraction dictionary\n",
    "contractions = pd.read_csv('dataset/contractions.csv', index_col='Contraction')\n",
    "contractions.index = contractions.index.str.lower()\n",
    "contractions.Meaning = contractions.Meaning.str.lower()\n",
    "contractions_dict = contractions.to_dict()['Meaning']\n",
    "\n",
    "# Define stop words\n",
    "stopwords_list = pd.read_csv('dataset/stopwords.csv', names=['Stopwords'])['Stopwords']\n",
    "stopwords_list = list(stopwords_list)\n",
    "\n",
    "# Define text cleaning pattern\n",
    "urlPattern        = r\"((http://)[^ ]*|(https://)[^ ]*|(www\\.)[^ ]*)\"\n",
    "userPattern       = '@[^\\s]+'\n",
    "hashtagPattern    = '#[^\\s]+'\n",
    "alphaPattern      = \"[^a-z0-9<>]\"\n",
    "sequencePattern   = r\"(.)\\1\\1+\"\n",
    "seqReplacePattern = r\"\\1\\1\"\n",
    "\n",
    "# Define emojis cleaning pattern\n",
    "smileemoji        = r\"[8:=;]['`\\-]?[)d]+\"\n",
    "sademoji          = r\"[8:=;]['`\\-]?\\(+\"\n",
    "neutralemoji      = r\"[8:=;]['`\\-]?[\\/|l*]\"\n",
    "lolemoji          = r\"[8:=;]['`\\-]?p+\""
   ]
  },
  {
   "cell_type": "code",
   "execution_count": 59,
   "metadata": {
    "_uuid": "649ebcb97969b9ac4301138783704bb3d7846a49",
    "id": "vGhil7MUyi6O"
   },
   "outputs": [],
   "source": [
    "def preprocess(text):\n",
    "    \n",
    "    # 1, Convert to lower case\n",
    "    text = text.lower()\n",
    "\n",
    "    # 2, Replace all URls with '<url>'\n",
    "    text = re.sub(urlPattern, '<url>', text)\n",
    "    \n",
    "    # 3, Replace all @USERNAME to '<user>'.\n",
    "    text = re.sub(userPattern, '<user>', text)\n",
    "    \n",
    "    # 4, Replace 3 or more consecutive letters by 2 letter.\n",
    "    text = re.sub(sequencePattern, seqReplacePattern, text)\n",
    "\n",
    "    # 5, Replace all emojis.\n",
    "    text = re.sub(r'<3', '<heart>', text)\n",
    "    text = re.sub(smileemoji, '<smile>', text)\n",
    "    text = re.sub(sademoji, '<sadface>', text)\n",
    "    text = re.sub(neutralemoji, '<neutralface>', text)\n",
    "    text = re.sub(lolemoji, '<lolface>', text)\n",
    "\n",
    "    # 6, Remove Contractions\n",
    "    for contraction, replacement in contractions_dict.items():\n",
    "        text = text.replace(contraction, replacement)\n",
    "\n",
    "    # 7, Remove stop words\n",
    "    # This step some how make accuracy worse\n",
    "    # text = ' '.join([word for word in text.split() if word not in stopwords_list])\n",
    "    \n",
    "    # 8, Removing Non-Alphabets and replace them with a space\n",
    "    text = re.sub(alphaPattern, ' ', text)\n",
    "\n",
    "    # 9, Adding space on either side of '/' to seperate words.\n",
    "    text = re.sub(r'/', ' / ', text)\n",
    "    \n",
    "    return text"
   ]
  },
  {
   "cell_type": "code",
   "execution_count": 60,
   "metadata": {
    "id": "2u3fUZK8oPPv",
    "outputId": "80633962-cabb-4881-8147-c068c796c0bf"
   },
   "outputs": [
    {
     "name": "stdout",
     "output_type": "stream",
     "text": [
      "Original  Text:  @Kenichan I dived many times for the ball. Managed to save 50%  The rest go out of bounds\n",
      "Processed Text:  <user> i dived many times for the ball  managed to save 50   the rest go out of bounds\n"
     ]
    }
   ],
   "source": [
    "# Show processed result of a sample text\n",
    "sample_text = dataset.iloc[2][\"text\"]\n",
    "print(\"Original  Text: \", sample_text)\n",
    "print(\"Processed Text: \", preprocess(sample_text))"
   ]
  },
  {
   "cell_type": "code",
   "execution_count": 61,
   "metadata": {
    "_uuid": "f7f3e77ab9291d14687c49e71ba9b2b1e3323432",
    "colab": {
     "base_uri": "https://localhost:8080/"
    },
    "id": "cH84dt7Oyi6P",
    "outputId": "339577b7-67a8-4bee-a200-15aaca65dbdb"
   },
   "outputs": [],
   "source": [
    "# Clean up the text and store it in a new field\n",
    "dataset['processed_text'] = dataset.text.apply(preprocess)\n",
    "\n",
    "# Convert it to numpy\n",
    "X_data, y_data = np.array(dataset['processed_text']), np.array(dataset['sentiment'])"
   ]
  },
  {
   "cell_type": "markdown",
   "metadata": {
    "_uuid": "f5f9714a8507409bbe780eebf2855a33e8e6ba37",
    "id": "e5MxeHCjyi6P"
   },
   "source": [
    "### Split training and testing set"
   ]
  },
  {
   "cell_type": "code",
   "execution_count": 62,
   "metadata": {
    "_uuid": "d2b1179c968e3f3910c790ecf0c5b2cbb34b0e68",
    "colab": {
     "base_uri": "https://localhost:8080/"
    },
    "id": "admlxBkxyi6P",
    "outputId": "7eaf4c2d-7144-4917-bd1a-78d7ad001967"
   },
   "outputs": [
    {
     "name": "stdout",
     "output_type": "stream",
     "text": [
      "Training set size: 1520000\n",
      "Testing set size: 80000\n"
     ]
    }
   ],
   "source": [
    "# Spliting train test set\n",
    "text_X_train, text_X_test, y_train, y_test = train_test_split(X_data, y_data, test_size=0.05, \n",
    "                                                              random_state=0, stratify=y_data)\n",
    "print(\"Training set size:\", len(y_train))\n",
    "print(\"Testing set size:\", len(y_test))"
   ]
  },
  {
   "cell_type": "markdown",
   "metadata": {
    "_uuid": "e13563644468037258598637b49373ca96b9b879",
    "id": "Ri9o-v3Xyi6Q"
   },
   "source": [
    "### Tokenize text"
   ]
  },
  {
   "cell_type": "code",
   "execution_count": 63,
   "metadata": {
    "_uuid": "6852bc709a7cd20173cbeeb218505078f8f37c57",
    "id": "_Ul7Tu_byi6R",
    "outputId": "12e57a80-8e17-41ca-da36-4933e68d222a"
   },
   "outputs": [
    {
     "name": "stdout",
     "output_type": "stream",
     "text": [
      "Total words 100000\n"
     ]
    }
   ],
   "source": [
    "tokenizer_path = 'models/Tokenizer.pickle'\n",
    "\n",
    "# Load the tokenizer if previously trained\n",
    "if os.path.exists(tokenizer_path):\n",
    "    tokenizer = pickle.load(open(tokenizer_path, 'rb'))\n",
    "    vocab_size = tokenizer.num_words\n",
    "    \n",
    "# Train a tokenizer\n",
    "else:\n",
    "    vocab_size = 100000\n",
    "    tokenizer = Tokenizer(filters=\"\", lower=False, oov_token=\"<oov>\")\n",
    "    tokenizer.fit_on_texts(text_X_train)\n",
    "    tokenizer.num_words = vocab_size\n",
    "\n",
    "# vocab_size = len(tokenizer.word_index) + 1\n",
    "print(\"Total words\", tokenizer.num_words)"
   ]
  },
  {
   "cell_type": "code",
   "execution_count": 64,
   "metadata": {
    "id": "3CaXSpn6oPPx",
    "outputId": "461b86a4-5d38-43f7-9943-4e31295b0128"
   },
   "outputs": [],
   "source": [
    "# Tokenize data\n",
    "tokenized_X_train = tokenizer.texts_to_sequences(text_X_train)\n",
    "tokenized_X_test = tokenizer.texts_to_sequences(text_X_test)"
   ]
  },
  {
   "cell_type": "markdown",
   "metadata": {
    "id": "CnqKlUnioPPx"
   },
   "source": [
    "### Padding text"
   ]
  },
  {
   "cell_type": "code",
   "execution_count": 65,
   "metadata": {
    "id": "3CaXSpn6oPPx",
    "outputId": "461b86a4-5d38-43f7-9943-4e31295b0128"
   },
   "outputs": [],
   "source": [
    "# Padding to ensure texts have consistent length\n",
    "input_length = 60\n",
    "X_train = pad_sequences(tokenized_X_train, maxlen=input_length)\n",
    "X_test = pad_sequences(tokenized_X_test, maxlen=input_length)"
   ]
  },
  {
   "cell_type": "markdown",
   "metadata": {
    "id": "A7ejI500oPPw"
   },
   "source": [
    "# Word embedding"
   ]
  },
  {
   "cell_type": "code",
   "execution_count": 66,
   "metadata": {
    "id": "JkmQhv3goPPw",
    "outputId": "dadbce40-d432-44bb-ff31-fd4cc76e369a"
   },
   "outputs": [],
   "source": [
    "w2v_model_path = 'models/w2v-twitter-100'\n",
    "\n",
    "# Load the word2vec model if previously trained\n",
    "if os.path.exists(w2v_model_path):\n",
    "    w2v_model = Word2Vec.load(w2v_model_path)\n",
    "    w2v_size = w2v_model.vector_size\n",
    "\n",
    "# Train a new word2vec model\n",
    "else:\n",
    "    # Parameters\n",
    "    w2v_size = 100\n",
    "    w2v_window = 7\n",
    "    w2v_min_count = 10\n",
    "\n",
    "    # Training set for w2v model\n",
    "    w2v_training_data = list(map(lambda x: x.split(), text_X_train))\n",
    "\n",
    "    # Defining w2v model and training it.\n",
    "    w2v_model = Word2Vec(w2v_training_data,\n",
    "                         vector_size = w2v_size,\n",
    "                         workers = w2v_window,\n",
    "                         min_count = w2v_min_count)"
   ]
  },
  {
   "cell_type": "code",
   "execution_count": 67,
   "metadata": {
    "id": "Fc2CqpFMoPPw",
    "outputId": "4eee9c4e-4d3f-417a-813a-f5039d41500f"
   },
   "outputs": [
    {
     "name": "stdout",
     "output_type": "stream",
     "text": [
      "Vocabulary Length: 33147\n",
      "Similar words to 'love': \n"
     ]
    },
    {
     "data": {
      "text/plain": [
       "[('loove', 0.8314310908317566),\n",
       " ('adore', 0.7742820382118225),\n",
       " ('lovee', 0.7735409140586853),\n",
       " ('luv', 0.6996517181396484),\n",
       " ('loved', 0.6632917523384094),\n",
       " ('admire', 0.6377071738243103),\n",
       " ('miss', 0.630778431892395),\n",
       " ('loves', 0.6096831560134888),\n",
       " ('appreciate', 0.603790283203125),\n",
       " ('liked', 0.57492595911026)]"
      ]
     },
     "execution_count": 67,
     "metadata": {},
     "output_type": "execute_result"
    }
   ],
   "source": [
    "# Demonstrate result\n",
    "print(\"Vocabulary Length:\", len(w2v_model.wv.key_to_index))\n",
    "print(\"Similar words to 'love': \")\n",
    "w2v_model.wv.most_similar(\"love\")"
   ]
  },
  {
   "cell_type": "markdown",
   "metadata": {
    "id": "J_vRU66SoPPx"
   },
   "source": [
    "# Model Building And Training"
   ]
  },
  {
   "cell_type": "code",
   "execution_count": 68,
   "metadata": {
    "_uuid": "9ab488374b59e3f30f8b1ea92767d853c4846bac",
    "id": "q4kBaTmTyi6S"
   },
   "outputs": [],
   "source": [
    "# Embedding layer\n",
    "def EmbeddingLayer():\n",
    "    \n",
    "    # Create embedding matrix\n",
    "    embedding_matrix = np.zeros((vocab_size, w2v_size))\n",
    "    # print(\"Embedding Matrix Shape:\", embedding_matrix.shape)\n",
    "\n",
    "    for word, i in tokenizer.word_index.items():\n",
    "        if word in w2v_model.wv:\n",
    "            embedding_matrix[i] = w2v_model.wv[word]\n",
    "\n",
    "    # Return embedding layer\n",
    "    return Embedding(input_dim = vocab_size,\n",
    "                     output_dim = w2v_size,\n",
    "                     weights = [embedding_matrix],\n",
    "                     input_length = input_length,\n",
    "                     trainable = False)"
   ]
  },
  {
   "cell_type": "markdown",
   "metadata": {
    "_uuid": "b299ef78f94c2085942c993a2d58753a7476305a",
    "id": "w7XuC9kRyi6S"
   },
   "source": [
    "### Build Model"
   ]
  },
  {
   "cell_type": "code",
   "execution_count": 69,
   "metadata": {
    "_uuid": "e775ef4f1b74e6412457181383c39f2df554ef3f",
    "id": "DYgS0jB2yi6S"
   },
   "outputs": [],
   "source": [
    "# LSTM Model\n",
    "def Pure_LSTM():\n",
    "    model = Sequential()\n",
    "    model.add(EmbeddingLayer())\n",
    "    model.add(Dropout(0.5))\n",
    "    model.add(LSTM(256, dropout=0.2, recurrent_dropout=0.2))\n",
    "    model.add(Dense(64, activation='relu'))\n",
    "    model.add(Dense(1, activation='sigmoid'))\n",
    "    \n",
    "    return model\n",
    "\n",
    "\n",
    "# C-LSTM Model\n",
    "def C_LSTM():\n",
    "    model = Sequential()\n",
    "    model.add(EmbeddingLayer())\n",
    "    model.add(Dropout(0.2))\n",
    "\n",
    "    conv3 = Conv1D(64, kernel_size=3, padding='same', activation='relu')(model.output)\n",
    "    conv5 = Conv1D(64, kernel_size=5, padding='same', activation='relu')(model.output)\n",
    "    conv7 = Conv1D(64, kernel_size=7, padding='same', activation='relu')(model.output)\n",
    "    concatted = Concatenate(axis=-1)([conv3, conv5, conv7])\n",
    "\n",
    "    out = LSTM(256, activation='relu', recurrent_dropout=0.4)(concatted)\n",
    "    out = Dropout(0.2)(out)\n",
    "\n",
    "    out = Dense(64, activation='relu')(out)\n",
    "    out = Dense(1, activation='sigmoid')(out)\n",
    "    \n",
    "    model = Model(inputs=model.input, outputs=out)\n",
    "    return model\n",
    "\n",
    "\n",
    "# Bi-LSTM + CNN\n",
    "def Bi_LSTM():\n",
    "    model = Sequential()\n",
    "    model.add(EmbeddingLayer())\n",
    "\n",
    "    model.add(Bidirectional(LSTM(256, dropout=0.2, return_sequences=True)))\n",
    "    model.add(Bidirectional(LSTM(128, dropout=0.2, return_sequences=True)))\n",
    "    \n",
    "    model.add(Conv1D(128, kernel_size=3, activation='relu'))\n",
    "    model.add(GlobalMaxPool1D())\n",
    "\n",
    "    model.add(Dense(64, activation='relu'))\n",
    "    model.add(Dense(1, activation='sigmoid'))\n",
    "\n",
    "    return model"
   ]
  },
  {
   "cell_type": "markdown",
   "metadata": {
    "_uuid": "8d0873633dd49179c8cae17377641b97d323ef3b",
    "id": "JQ22h-Boyi6T"
   },
   "source": [
    "### Loading or Training Model"
   ]
  },
  {
   "cell_type": "code",
   "execution_count": 70,
   "metadata": {
    "id": "gUfygjq0oPPy"
   },
   "outputs": [
    {
     "name": "stdout",
     "output_type": "stream",
     "text": [
      "Model: \"sequential_4\"\n",
      "_________________________________________________________________\n",
      " Layer (type)                Output Shape              Param #   \n",
      "=================================================================\n",
      " embedding_4 (Embedding)     (None, 60, 100)           10000000  \n",
      "                                                                 \n",
      " bidirectional_8 (Bidirectio  (None, 60, 512)          731136    \n",
      " nal)                                                            \n",
      "                                                                 \n",
      " bidirectional_9 (Bidirectio  (None, 60, 256)          656384    \n",
      " nal)                                                            \n",
      "                                                                 \n",
      " conv1d_4 (Conv1D)           (None, 58, 128)           98432     \n",
      "                                                                 \n",
      " global_max_pooling1d_4 (Glo  (None, 128)              0         \n",
      " balMaxPooling1D)                                                \n",
      "                                                                 \n",
      " dense_8 (Dense)             (None, 64)                8256      \n",
      "                                                                 \n",
      " dense_9 (Dense)             (None, 1)                 65        \n",
      "                                                                 \n",
      "=================================================================\n",
      "Total params: 11,494,273\n",
      "Trainable params: 1,494,273\n",
      "Non-trainable params: 10,000,000\n",
      "_________________________________________________________________\n"
     ]
    }
   ],
   "source": [
    "model_path = 'models/Bi_LSTM.h5'\n",
    "train_model = True\n",
    "\n",
    "\n",
    "# Train a new model\n",
    "if train_model:\n",
    "    # model = Pure_LSTM()\n",
    "    # model = C_LSTM()\n",
    "    model = Bi_LSTM()\n",
    "    \n",
    "    model.compile(loss='binary_crossentropy',\n",
    "                  optimizer=\"adam\",\n",
    "                  metrics=['accuracy'])\n",
    "\n",
    "# Load a model if already trained\n",
    "else:\n",
    "    model = keras.models.load_model(model_path)\n",
    "\n",
    "model.summary()"
   ]
  },
  {
   "cell_type": "code",
   "execution_count": 71,
   "metadata": {
    "_uuid": "2b659d390c6577dc5cdb6b6297934279b4e801d5",
    "id": "t-fGBbTgyi6T"
   },
   "outputs": [
    {
     "name": "stdout",
     "output_type": "stream",
     "text": [
      "Epoch 1/10\n",
      "1336/1336 [==============================] - 43s 30ms/step - loss: 0.4134 - accuracy: 0.8089 - val_loss: 0.3735 - val_accuracy: 0.8324 - lr: 0.0010\n",
      "Epoch 2/10\n",
      "1336/1336 [==============================] - 39s 29ms/step - loss: 0.3744 - accuracy: 0.8310 - val_loss: 0.3606 - val_accuracy: 0.8383 - lr: 0.0010\n",
      "Epoch 3/10\n",
      "1336/1336 [==============================] - 39s 29ms/step - loss: 0.3596 - accuracy: 0.8388 - val_loss: 0.3535 - val_accuracy: 0.8442 - lr: 0.0010\n",
      "Epoch 4/10\n",
      "1336/1336 [==============================] - 39s 29ms/step - loss: 0.3492 - accuracy: 0.8442 - val_loss: 0.3472 - val_accuracy: 0.8458 - lr: 0.0010\n",
      "Epoch 5/10\n",
      "1336/1336 [==============================] - 39s 29ms/step - loss: 0.3407 - accuracy: 0.8486 - val_loss: 0.3442 - val_accuracy: 0.8474 - lr: 0.0010\n",
      "Epoch 6/10\n",
      "1336/1336 [==============================] - 39s 29ms/step - loss: 0.3331 - accuracy: 0.8523 - val_loss: 0.3479 - val_accuracy: 0.8481 - lr: 0.0010\n",
      "Epoch 7/10\n",
      "1336/1336 [==============================] - 39s 29ms/step - loss: 0.3263 - accuracy: 0.8559 - val_loss: 0.3445 - val_accuracy: 0.8485 - lr: 0.0010\n",
      "Epoch 8/10\n",
      "1336/1336 [==============================] - 39s 29ms/step - loss: 0.3203 - accuracy: 0.8589 - val_loss: 0.3483 - val_accuracy: 0.8468 - lr: 0.0010\n",
      "Epoch 9/10\n",
      "1336/1336 [==============================] - 39s 29ms/step - loss: 0.3149 - accuracy: 0.8617 - val_loss: 0.3484 - val_accuracy: 0.8484 - lr: 0.0010\n",
      "Epoch 10/10\n",
      "1336/1336 [==============================] - 39s 29ms/step - loss: 0.3102 - accuracy: 0.8639 - val_loss: 0.3504 - val_accuracy: 0.8480 - lr: 0.0010\n"
     ]
    }
   ],
   "source": [
    "# Start training\n",
    "if train_model:\n",
    "\n",
    "    # Training parameters\n",
    "    epochs = 10\n",
    "    batch_size = 1024\n",
    "\n",
    "    # Define callbacks\n",
    "    callbacks = [ReduceLROnPlateau(monitor='val_loss', patience=5, cooldown=0),\\\n",
    "                 EarlyStopping(monitor='val_accuracy', min_delta=1e-4, patience=5)]\n",
    "\n",
    "    # Start training\n",
    "    history = model.fit(X_train, y_train,\n",
    "                        batch_size = batch_size,\n",
    "                        epochs = epochs,\n",
    "                        validation_split = 0.1,\n",
    "                        verbose = 1,\n",
    "                        callbacks = callbacks)"
   ]
  },
  {
   "cell_type": "markdown",
   "metadata": {
    "_uuid": "267258196d96796ac69a7b8c466314bcf5d6ee42",
    "id": "E8Eu7gq5yi6T"
   },
   "source": [
    "### Evaluate"
   ]
  },
  {
   "cell_type": "code",
   "execution_count": 72,
   "metadata": {
    "_uuid": "98ecd8f1b8b74594c3ea775dd68a094e92458022",
    "id": "ZLb5_XhMyi6T"
   },
   "outputs": [
    {
     "name": "stdout",
     "output_type": "stream",
     "text": [
      "79/79 [==============================] - 1s 10ms/step - loss: 0.3561 - accuracy: 0.8453\n",
      "Model loss:  0.3560941517353058\n",
      "Model accuracy:  0.8452749848365784\n"
     ]
    }
   ],
   "source": [
    "score = model.evaluate(X_test, y_test, batch_size=batch_size)\n",
    "print(\"Model loss: \", score[0])\n",
    "print(\"Model accuracy: \", score[1])"
   ]
  },
  {
   "cell_type": "code",
   "execution_count": 73,
   "metadata": {
    "_uuid": "40c72cd1e9d6c4fd799cbba7c813765ac4039dfc",
    "colab": {
     "base_uri": "https://localhost:8080/",
     "height": 545
    },
    "id": "Fz6ec-vxyi6T",
    "outputId": "24fa32d0-05df-4bfb-ca5f-5564fb0ee169"
   },
   "outputs": [
    {
     "data": {
      "text/plain": [
       "<matplotlib.legend.Legend at 0x7ffec6d9fa90>"
      ]
     },
     "execution_count": 73,
     "metadata": {},
     "output_type": "execute_result"
    },
    {
     "data": {
      "image/png": "[encoded data removed]",
      "text/plain": [
       "<Figure size 640x480 with 2 Axes>"
      ]
     },
     "metadata": {},
     "output_type": "display_data"
    }
   ],
   "source": [
    "# Print history\n",
    "acc = history.history['accuracy']\n",
    "val_acc = history.history['val_accuracy']\n",
    "loss = history.history['loss']\n",
    "val_loss = history.history['val_loss']\n",
    "epochs = range(len(acc))\n",
    "\n",
    "plt.subplot(2, 1, 1)\n",
    "plt.title('Training and validation accuracy')\n",
    "plt.plot(epochs, acc, 'b', label='Training acc')\n",
    "plt.plot(epochs, val_acc, 'r', label='Validation acc')\n",
    "plt.legend()\n",
    "\n",
    "plt.subplot(2, 1, 2)\n",
    "plt.title('Training and validation loss')\n",
    "plt.plot(epochs, loss, 'b', label='Training loss')\n",
    "plt.plot(epochs, val_loss, 'r', label='Validation loss')\n",
    "plt.legend()"
   ]
  },
  {
   "cell_type": "markdown",
   "metadata": {
    "_uuid": "6bdfc0f6a6af5bebc0271d83dd7432c91001409b",
    "id": "_s5NLD07yi6T"
   },
   "source": [
    "### Test with some samples"
   ]
  },
  {
   "cell_type": "code",
   "execution_count": 74,
   "metadata": {
    "_uuid": "ed4086d651f2f8cbed11d3c909a8873607d29a06",
    "id": "N8IxEFAlyi6U"
   },
   "outputs": [],
   "source": [
    "def predict(text):\n",
    "    # Pre-process text\n",
    "    processed_text = preprocess(text)\n",
    "    # Tokenize text\n",
    "    input_matrix = pad_sequences(tokenizer.texts_to_sequences([processed_text]), maxlen=input_length)\n",
    "    # Predict\n",
    "    score = model.predict([input_matrix], verbose = 0)[0]\n",
    "    \n",
    "    return float(score)"
   ]
  },
  {
   "cell_type": "code",
   "execution_count": 75,
   "metadata": {
    "_uuid": "ca38b1e6c9b5acfed7467de2cf02a78333108872",
    "colab": {
     "base_uri": "https://localhost:8080/"
    },
    "id": "z3cqDSCQyi6U",
    "outputId": "1a49dea8-3f50-4bf0-c2dd-a1feaa37c6c4"
   },
   "outputs": [
    {
     "name": "stdout",
     "output_type": "stream",
     "text": [
      "The score of 'I love the music!!' is: 0.9929157495498657\n",
      "The score of 'I hate the rain :(' is: 0.04760536551475525\n",
      "The score of 'i don't know what i'm doing' is: 0.2574569284915924\n"
     ]
    }
   ],
   "source": [
    "def analyze_sentiment(text):\n",
    "    print(\"The score of '{0}' is: {1}\".format(text, predict(text)))\n",
    "\n",
    "analyze_sentiment(\"I love the music!!\")\n",
    "analyze_sentiment(\"I hate the rain :(\")\n",
    "analyze_sentiment(\"i don't know what i'm doing\")"
   ]
  },
  {
   "cell_type": "markdown",
   "metadata": {
    "id": "2ZlFfci7oPPz"
   },
   "source": [
    "# Model Analysis"
   ]
  },
  {
   "cell_type": "markdown",
   "metadata": {},
   "source": [
    "### Evaluation"
   ]
  },
  {
   "cell_type": "code",
   "execution_count": 76,
   "metadata": {
    "_uuid": "a57dc6f6211c144491a70f533225edfa95a2dc66",
    "colab": {
     "base_uri": "https://localhost:8080/",
     "height": 805
    },
    "id": "0wJvBBfpyi6V",
    "outputId": "1b9f4df0-fb77-4ee6-bb70-e0ec819883ee"
   },
   "outputs": [
    {
     "name": "stdout",
     "output_type": "stream",
     "text": [
      "79/79 [==============================] - 1s 10ms/step\n"
     ]
    }
   ],
   "source": [
    "# Predicting on the Test dataset\n",
    "y_pred = model.predict(X_test, batch_size=batch_size)\n",
    "y_pred = np.where(y_pred>=0.5, 1, 0)"
   ]
  },
  {
   "cell_type": "markdown",
   "metadata": {
    "_uuid": "e23b957348dcc084249d3cc7538b972da471c2cd",
    "id": "wN5p7B2nyi6W"
   },
   "source": [
    "### Confusion Matrix and Classification Report"
   ]
  },
  {
   "cell_type": "code",
   "execution_count": 80,
   "metadata": {
    "_uuid": "b3575191bb425ab871f3f41e83812ee84bb7e595",
    "id": "TrPCfVs7yi6V"
   },
   "outputs": [],
   "source": [
    "def plot_confusion_matrix(y_test, y_pred):\n",
    "    # Compute and plot the Confusion matrix\n",
    "    cm = confusion_matrix(y_test, y_pred, labels=[1, 0])\n",
    "    cm = cm.astype('float') / cm.sum(axis=1)[:, np.newaxis]\n",
    "    \n",
    "    plt.figure(figsize=(6,4))\n",
    "    plt.imshow(cm, interpolation='nearest', cmap=plt.cm.Blues)\n",
    "    plt.colorbar()\n",
    "    \n",
    "    classes  = ['Positive', 'Negative']\n",
    "    tick_marks = np.arange(len(classes))\n",
    "    plt.xticks(tick_marks, classes, rotation=90, fontsize=12)\n",
    "    plt.yticks(tick_marks, classes, fontsize=12)\n",
    "\n",
    "    fmt = '.2f'\n",
    "    thresh = cm.max() / 2.\n",
    "    for i, j in itertools.product(range(cm.shape[0]), range(cm.shape[1])):\n",
    "        plt.text(j, i, format(cm[i, j], fmt),\n",
    "                 fontsize = 12,\n",
    "                 horizontalalignment=\"center\",\n",
    "                 color=\"white\" if cm[i, j] > thresh else \"black\")\n",
    "\n",
    "    plt.title('Confusion Matrix', fontsize=20)\n",
    "    plt.ylabel('True label', fontsize=12)\n",
    "    plt.xlabel('Predicted label', fontsize=12)"
   ]
  },
  {
   "cell_type": "code",
   "execution_count": 81,
   "metadata": {
    "_uuid": "a7fe05b7caa1c984ff1deb0be2f7c6bc043df9f5",
    "colab": {
     "base_uri": "https://localhost:8080/"
    },
    "id": "fAsPCvVJyi6W",
    "outputId": "002ab8c3-45a2-4b1c-a2d9-d940017d6d0e"
   },
   "outputs": [
    {
     "name": "stdout",
     "output_type": "stream",
     "text": [
      "              precision    recall  f1-score   support\n",
      "\n",
      "           0       0.84      0.85      0.85     40000\n",
      "           1       0.85      0.84      0.84     40000\n",
      "\n",
      "    accuracy                           0.85     80000\n",
      "   macro avg       0.85      0.85      0.85     80000\n",
      "weighted avg       0.85      0.85      0.85     80000\n",
      "\n"
     ]
    },
    {
     "data": {
      "image/png": "[encoded data removed]",
      "text/plain": [
       "<Figure size 600x400 with 2 Axes>"
      ]
     },
     "metadata": {},
     "output_type": "display_data"
    }
   ],
   "source": [
    "plot_confusion_matrix(y_test, y_pred)\n",
    "print(classification_report(y_test, y_pred))"
   ]
  },
  {
   "cell_type": "markdown",
   "metadata": {
    "_uuid": "4f014c32f3833db282e1a075c526604f34e3158c",
    "id": "StwdrEqKyi6W"
   },
   "source": [
    "# Save Model"
   ]
  },
  {
   "cell_type": "code",
   "execution_count": 79,
   "metadata": {
    "_uuid": "3b2b3ad5b592977b404acfa1c9ad303a62837255",
    "id": "aV9pCGJwyi6W"
   },
   "outputs": [],
   "source": [
    "# Saving Word2Vec-Model\n",
    "w2v_model.save(w2v_model_path)\n",
    "\n",
    "# Saving the tokenizer\n",
    "with open(tokenizer_path, 'wb') as file:\n",
    "    pickle.dump(tokenizer, file)\n",
    "\n",
    "# Saving the TF-Model.\n",
    "model.save(model_path)"
   ]
  }
 ],
 "metadata": {
  "accelerator": "GPU",
  "colab": {
   "provenance": []
  },
  "kernelspec": {
   "display_name": "Python 3 (ipykernel)",
   "language": "python",
   "name": "python3"
  },
  "language_info": {
   "codemirror_mode": {
    "name": "ipython",
    "version": 3
   },
   "file_extension": ".py",
   "mimetype": "text/x-python",
   "name": "python",
   "nbconvert_exporter": "python",
   "pygments_lexer": "ipython3",
   "version": "3.9.15"
  },
  "vscode": {
   "interpreter": {
    "hash": "6e4315d721ffbac66f5c38b519160587f8b26ea0abae3ffba7b8d6ddbc235490"
   }
  }
 },
 "nbformat": 4,
 "nbformat_minor": 1
}
